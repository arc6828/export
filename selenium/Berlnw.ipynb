{
 "cells": [
  {
   "cell_type": "code",
   "execution_count": 1,
   "metadata": {},
   "outputs": [],
   "source": [
    "from bs4 import BeautifulSoup\n",
    "import requests\n",
    "import os\n"
   ]
  },
  {
   "cell_type": "code",
   "execution_count": 2,
   "metadata": {},
   "outputs": [],
   "source": [
    "url = \"https://www.berlnw.com/%E0%B8%84%E0%B9%89%E0%B8%99%E0%B8%AB%E0%B8%B2%E0%B9%80%E0%B8%9A%E0%B8%AD%E0%B8%A3%E0%B9%8C%E0%B8%A1%E0%B8%87%E0%B8%84%E0%B8%A5\"\n",
    "home = requests.get(url)"
   ]
  },
  {
   "cell_type": "code",
   "execution_count": 3,
   "metadata": {},
   "outputs": [],
   "source": [
    "soup = BeautifulSoup(home.text,'html.parser')"
   ]
  },
  {
   "cell_type": "code",
   "execution_count": 5,
   "metadata": {},
   "outputs": [],
   "source": [
    "a_list = soup.find_all(\"a\",{\"class\":\"phone\"}) "
   ]
  },
  {
   "cell_type": "code",
   "execution_count": 7,
   "metadata": {},
   "outputs": [
    {
     "name": "stdout",
     "output_type": "stream",
     "text": [
      "<a class=\"phone\" href=\"javascript:{}\" onclick=\"document.getElementById('rec_do_ins_0').submit(); return false;\">0616914749</a>\n",
      "<a class=\"phone\" href=\"javascript:{}\" onclick=\"document.getElementById('rec_do_ins_1').submit(); return false;\">0616915478</a>\n",
      "<a class=\"phone\" href=\"javascript:{}\" onclick=\"document.getElementById('rec_do_ins_2').submit(); return false;\">0616924974</a>\n",
      "<a class=\"phone\" href=\"javascript:{}\" onclick=\"document.getElementById('rec_do_ins_3').submit(); return false;\">0616947898</a>\n",
      "<a class=\"phone\" href=\"javascript:{}\" onclick=\"document.getElementById('rec_do_ins_4').submit(); return false;\">0616949465</a>\n",
      "<a class=\"phone\" href=\"javascript:{}\" onclick=\"document.getElementById('rec_do_ins_5').submit(); return false;\">0616949474</a>\n",
      "<a class=\"phone\" href=\"javascript:{}\" onclick=\"document.getElementById('rec_do_ins_6').submit(); return false;\">0616954247</a>\n",
      "<a class=\"phone\" href=\"javascript:{}\" onclick=\"document.getElementById('rec_do_ins_7').submit(); return false;\">0616954741</a>\n",
      "<a class=\"phone\" href=\"javascript:{}\" onclick=\"document.getElementById('rec_do_ins_8').submit(); return false;\">0616955974</a>\n",
      "<a class=\"phone\" href=\"javascript:{}\" onclick=\"document.getElementById('rec_do_ins_9').submit(); return false;\">0616956147</a>\n",
      "<a class=\"phone\" href=\"javascript:{}\" onclick=\"document.getElementById('rec_do_ins_10').submit(); return false;\">0616956947</a>\n",
      "<a class=\"phone\" href=\"javascript:{}\" onclick=\"document.getElementById('rec_do_ins_11').submit(); return false;\">0616969746</a>\n",
      "<a class=\"phone\" href=\"javascript:{}\" onclick=\"document.getElementById('rec_do_ins_12').submit(); return false;\">0616974147</a>\n",
      "<a class=\"phone\" href=\"javascript:{}\" onclick=\"document.getElementById('rec_do_ins_13').submit(); return false;\">0616974193</a>\n",
      "<a class=\"phone\" href=\"javascript:{}\" onclick=\"document.getElementById('rec_do_ins_14').submit(); return false;\">0616974749</a>\n",
      "<a class=\"phone\" href=\"javascript:{}\" onclick=\"document.getElementById('rec_do_ins_15').submit(); return false;\">0616974916</a>\n",
      "<a class=\"phone\" href=\"javascript:{}\" onclick=\"document.getElementById('rec_do_ins_16').submit(); return false;\">0616978741</a>\n",
      "<a class=\"phone\" href=\"javascript:{}\" onclick=\"document.getElementById('rec_do_ins_17').submit(); return false;\">0617146544</a>\n",
      "<a class=\"phone\" href=\"javascript:{}\" onclick=\"document.getElementById('rec_do_ins_18').submit(); return false;\">0617469564</a>\n",
      "<a class=\"phone\" href=\"javascript:{}\" onclick=\"document.getElementById('rec_do_ins_19').submit(); return false;\">0617829144</a>\n",
      "<a class=\"phone\" href=\"javascript:{}\" onclick=\"document.getElementById('rec_do_ins_20').submit(); return false;\">0617829265</a>\n",
      "<a class=\"phone\" href=\"javascript:{}\" onclick=\"document.getElementById('rec_do_ins_21').submit(); return false;\">0617829924</a>\n",
      "<a class=\"phone\" href=\"javascript:{}\" onclick=\"document.getElementById('rec_do_ins_22').submit(); return false;\">0617891497</a>\n",
      "<a class=\"phone\" href=\"javascript:{}\" onclick=\"document.getElementById('rec_do_ins_23').submit(); return false;\">0617891615</a>\n",
      "<a class=\"phone\" href=\"javascript:{}\" onclick=\"document.getElementById('rec_do_ins_24').submit(); return false;\">0617891962</a>\n",
      "<a class=\"phone\" href=\"javascript:{}\" onclick=\"document.getElementById('rec_do_ins_25').submit(); return false;\">0617891979</a>\n",
      "<a class=\"phone\" href=\"javascript:{}\" onclick=\"document.getElementById('rec_do_ins_26').submit(); return false;\">0617892924</a>\n",
      "<a class=\"phone\" href=\"javascript:{}\" onclick=\"document.getElementById('rec_do_ins_27').submit(); return false;\">0617893569</a>\n",
      "<a class=\"phone\" href=\"javascript:{}\" onclick=\"document.getElementById('rec_do_ins_28').submit(); return false;\">0617893928</a>\n",
      "<a class=\"phone\" href=\"javascript:{}\" onclick=\"document.getElementById('rec_do_ins_29').submit(); return false;\">0617893954</a>\n",
      "<a class=\"phone\" href=\"javascript:{}\" onclick=\"document.getElementById('rec_do_ins_30').submit(); return false;\">0617894169</a>\n",
      "<a class=\"phone\" href=\"javascript:{}\" onclick=\"document.getElementById('rec_do_ins_31').submit(); return false;\">0617894269</a>\n",
      "<a class=\"phone\" href=\"javascript:{}\" onclick=\"document.getElementById('rec_do_ins_32').submit(); return false;\">0617894297</a>\n",
      "<a class=\"phone\" href=\"javascript:{}\" onclick=\"document.getElementById('rec_do_ins_33').submit(); return false;\">0617894446</a>\n",
      "<a class=\"phone\" href=\"javascript:{}\" onclick=\"document.getElementById('rec_do_ins_34').submit(); return false;\">0617894453</a>\n",
      "<a class=\"phone\" href=\"javascript:{}\" onclick=\"document.getElementById('rec_do_ins_35').submit(); return false;\">0617894454</a>\n",
      "<a class=\"phone\" href=\"javascript:{}\" onclick=\"document.getElementById('rec_do_ins_36').submit(); return false;\">0617894626</a>\n",
      "<a class=\"phone\" href=\"javascript:{}\" onclick=\"document.getElementById('rec_do_ins_37').submit(); return false;\">0617894978</a>\n",
      "<a class=\"phone\" href=\"javascript:{}\" onclick=\"document.getElementById('rec_do_ins_38').submit(); return false;\">0617896296</a>\n",
      "<a class=\"phone\" href=\"javascript:{}\" onclick=\"document.getElementById('rec_do_ins_39').submit(); return false;\">0617896492</a>\n",
      "<a class=\"phone\" href=\"javascript:{}\" onclick=\"document.getElementById('rec_do_ins_40').submit(); return false;\">0617896555</a>\n",
      "<a class=\"phone\" href=\"javascript:{}\" onclick=\"document.getElementById('rec_do_ins_41').submit(); return false;\">0617896695</a>\n",
      "<a class=\"phone\" href=\"javascript:{}\" onclick=\"document.getElementById('rec_do_ins_42').submit(); return false;\">0617896959</a>\n",
      "<a class=\"phone\" href=\"javascript:{}\" onclick=\"document.getElementById('rec_do_ins_43').submit(); return false;\">0617897894</a>\n",
      "<a class=\"phone\" href=\"javascript:{}\" onclick=\"document.getElementById('rec_do_ins_44').submit(); return false;\">0617898914</a>\n",
      "<a class=\"phone\" href=\"javascript:{}\" onclick=\"document.getElementById('rec_do_ins_45').submit(); return false;\">0617928744</a>\n",
      "<a class=\"phone\" href=\"javascript:{}\" onclick=\"document.getElementById('rec_do_ins_46').submit(); return false;\">0617974459</a>\n",
      "<a class=\"phone\" href=\"javascript:{}\" onclick=\"document.getElementById('rec_do_ins_47').submit(); return false;\">0619141936</a>\n",
      "<a class=\"phone\" href=\"javascript:{}\" onclick=\"document.getElementById('rec_do_ins_48').submit(); return false;\">0619144792</a>\n",
      "<a class=\"phone\" href=\"javascript:{}\" onclick=\"document.getElementById('rec_do_ins_49').submit(); return false;\">0619144799</a>\n",
      "<a class=\"phone\" href=\"tel://0947899926\">094-789-9926</a>\n",
      "<a class=\"phone\" href=\"tel://0947899965\">094-789-9965</a>\n"
     ]
    }
   ],
   "source": [
    "for ph in a_list :\n",
    "    print(ph);"
   ]
  },
  {
   "cell_type": "code",
   "execution_count": null,
   "metadata": {},
   "outputs": [],
   "source": []
  }
 ],
 "metadata": {
  "kernelspec": {
   "display_name": "Python 3",
   "language": "python",
   "name": "python3"
  },
  "language_info": {
   "codemirror_mode": {
    "name": "ipython",
    "version": 3
   },
   "file_extension": ".py",
   "mimetype": "text/x-python",
   "name": "python",
   "nbconvert_exporter": "python",
   "pygments_lexer": "ipython3",
   "version": "3.8.6"
  }
 },
 "nbformat": 4,
 "nbformat_minor": 4
}
